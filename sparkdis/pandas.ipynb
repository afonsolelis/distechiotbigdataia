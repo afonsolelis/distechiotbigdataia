{
 "cells": [
  {
   "cell_type": "code",
   "execution_count": null,
   "metadata": {},
   "outputs": [],
   "source": [
    "import pandas as pd\n",
    "import time\n",
    "\n",
    "# Caminhos dos arquivos\n",
    "csv_path = \"csv/inventory_dataset.csv\"\n",
    "parquet_path = \"parquet/inventory_dataset_pandas.parquet\"\n",
    "\n",
    "# Início do tempo de leitura\n",
    "start_time = time.time()\n",
    "\n",
    "# Leitura do arquivo CSV usando Pandas\n",
    "df = pd.read_csv(csv_path)\n",
    "\n",
    "# Fim do tempo de leitura\n",
    "read_time = time.time() - start_time\n",
    "print(f\"Tempo de leitura do CSV com Pandas: {read_time} segundos\")\n",
    "\n",
    "# Início do tempo de escrita\n",
    "start_time = time.time()\n",
    "\n",
    "# Escrita do DataFrame em formato Parquet usando Pandas\n",
    "df.to_parquet(parquet_path, engine='pyarrow')\n",
    "\n",
    "# Fim do tempo de escrita\n",
    "write_time = time.time() - start_time\n",
    "print(f\"Tempo de escrita em Parquet com Pandas: {write_time} segundos\")"
   ]
  }
 ],
 "metadata": {
  "language_info": {
   "name": "python"
  }
 },
 "nbformat": 4,
 "nbformat_minor": 2
}
