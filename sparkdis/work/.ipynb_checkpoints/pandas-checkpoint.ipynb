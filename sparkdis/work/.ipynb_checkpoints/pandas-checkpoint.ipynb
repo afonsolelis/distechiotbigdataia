{
 "cells": [
  {
   "cell_type": "code",
   "execution_count": null,
   "id": "f41018d1-e5ff-40bc-8f7c-cf82b181172f",
   "metadata": {},
   "outputs": [],
   "source": [
    "import pandas as pd\n",
    "import time\n",
    "\n",
    "# Caminhos dos arquivos\n",
    "csv_path = \"csv/inventory_dataset.csv\"\n",
    "parquet_path = \"parquet/inventory_dataset_pandas.parquet\"\n",
    "\n",
    "# Início do tempo de leitura\n",
    "start_time = time.time()\n",
    "\n",
    "# Leitura do arquivo CSV usando Pandas\n",
    "df = pd.read_csv(csv_path)\n",
    "\n",
    "# Fim do tempo de leitura\n",
    "read_time = time.time() - start_time\n",
    "print(f\"Tempo de leitura do CSV com Pandas: {read_time} segundos\")\n",
    "\n",
    "# Início do tempo de escrita\n",
    "start_time = time.time()\n",
    "\n",
    "# Escrita do DataFrame em formato Parquet usando Pandas\n",
    "df.to_parquet(parquet_path, engine='pyarrow')\n",
    "\n",
    "# Fim do tempo de escrita\n",
    "write_time = time.time() - start_time\n",
    "print(f\"Tempo de escrita em Parquet com Pandas: {write_time} segundos\")"
   ]
  }
 ],
 "metadata": {
  "kernelspec": {
   "display_name": "Python 3 (ipykernel)",
   "language": "python",
   "name": "python3"
  },
  "language_info": {
   "codemirror_mode": {
    "name": "ipython",
    "version": 3
   },
   "file_extension": ".py",
   "mimetype": "text/x-python",
   "name": "python",
   "nbconvert_exporter": "python",
   "pygments_lexer": "ipython3",
   "version": "3.11.6"
  }
 },
 "nbformat": 4,
 "nbformat_minor": 5
}
